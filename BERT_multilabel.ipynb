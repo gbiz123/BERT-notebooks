{
  "nbformat": 4,
  "nbformat_minor": 0,
  "metadata": {
    "colab": {
      "provenance": []
    },
    "kernelspec": {
      "name": "python3",
      "display_name": "Python 3"
    },
    "language_info": {
      "name": "python"
    },
    "accelerator": "GPU",
    "gpuClass": "standard"
  },
  "cells": [
    {
      "cell_type": "markdown",
      "source": [
        "# Full BERT Multilabel Classification Pipeline for Social Media Text\n",
        "\n",
        "This notebook has everything you need to do multilabel BERT text classification on social media text. All you need to do is plug is provide labeled data in jsonlines format with one-hot encoded labels. This notebook will:\n",
        "\n",
        "*   clean the data (unidecode, demojize, remove hastags)\n",
        "*   augment the data (backtranslation, contextual word embedding)\n",
        "*   compute the class weights and use custom weighted trainer\n",
        "*   compute metrics\n",
        "*   save the model\n",
        "\n",
        "The user only needs to import their data in the \"Import Data\" section, and define the constants in the \"Define Constants\" section.\n",
        "\n",
        "\n",
        "\n",
        "\n",
        "\n",
        "\n",
        "\n"
      ],
      "metadata": {
        "id": "CsErW3iDSEOM"
      }
    },
    {
      "cell_type": "markdown",
      "source": [
        "# Import Data"
      ],
      "metadata": {
        "id": "dNyAEosE4JCF"
      }
    },
    {
      "cell_type": "code",
      "source": [
        "# Import data\n",
        "import os\n",
        "from google.colab import files\n",
        "import shutil\n",
        "\n",
        "# Upload Files\n",
        "uploaded = files.upload()"
      ],
      "metadata": {
        "colab": {
          "base_uri": "https://localhost:8080/",
          "height": 57
        },
        "id": "Yjz-FKSJWerP",
        "outputId": "1fb60221-fe07-4042-fbd3-6ae49248bf30"
      },
      "execution_count": null,
      "outputs": [
        {
          "output_type": "display_data",
          "data": {
            "text/plain": [
              "<IPython.core.display.HTML object>"
            ],
            "text/html": [
              "\n",
              "     <input type=\"file\" id=\"files-a3e07a82-f378-4cbc-8bf2-952d861f4fc3\" name=\"files[]\" multiple disabled\n",
              "        style=\"border:none\" />\n",
              "     <output id=\"result-a3e07a82-f378-4cbc-8bf2-952d861f4fc3\">\n",
              "      Upload widget is only available when the cell has been executed in the\n",
              "      current browser session. Please rerun this cell to enable.\n",
              "      </output>\n",
              "      <script>// Copyright 2017 Google LLC\n",
              "//\n",
              "// Licensed under the Apache License, Version 2.0 (the \"License\");\n",
              "// you may not use this file except in compliance with the License.\n",
              "// You may obtain a copy of the License at\n",
              "//\n",
              "//      http://www.apache.org/licenses/LICENSE-2.0\n",
              "//\n",
              "// Unless required by applicable law or agreed to in writing, software\n",
              "// distributed under the License is distributed on an \"AS IS\" BASIS,\n",
              "// WITHOUT WARRANTIES OR CONDITIONS OF ANY KIND, either express or implied.\n",
              "// See the License for the specific language governing permissions and\n",
              "// limitations under the License.\n",
              "\n",
              "/**\n",
              " * @fileoverview Helpers for google.colab Python module.\n",
              " */\n",
              "(function(scope) {\n",
              "function span(text, styleAttributes = {}) {\n",
              "  const element = document.createElement('span');\n",
              "  element.textContent = text;\n",
              "  for (const key of Object.keys(styleAttributes)) {\n",
              "    element.style[key] = styleAttributes[key];\n",
              "  }\n",
              "  return element;\n",
              "}\n",
              "\n",
              "// Max number of bytes which will be uploaded at a time.\n",
              "const MAX_PAYLOAD_SIZE = 100 * 1024;\n",
              "\n",
              "function _uploadFiles(inputId, outputId) {\n",
              "  const steps = uploadFilesStep(inputId, outputId);\n",
              "  const outputElement = document.getElementById(outputId);\n",
              "  // Cache steps on the outputElement to make it available for the next call\n",
              "  // to uploadFilesContinue from Python.\n",
              "  outputElement.steps = steps;\n",
              "\n",
              "  return _uploadFilesContinue(outputId);\n",
              "}\n",
              "\n",
              "// This is roughly an async generator (not supported in the browser yet),\n",
              "// where there are multiple asynchronous steps and the Python side is going\n",
              "// to poll for completion of each step.\n",
              "// This uses a Promise to block the python side on completion of each step,\n",
              "// then passes the result of the previous step as the input to the next step.\n",
              "function _uploadFilesContinue(outputId) {\n",
              "  const outputElement = document.getElementById(outputId);\n",
              "  const steps = outputElement.steps;\n",
              "\n",
              "  const next = steps.next(outputElement.lastPromiseValue);\n",
              "  return Promise.resolve(next.value.promise).then((value) => {\n",
              "    // Cache the last promise value to make it available to the next\n",
              "    // step of the generator.\n",
              "    outputElement.lastPromiseValue = value;\n",
              "    return next.value.response;\n",
              "  });\n",
              "}\n",
              "\n",
              "/**\n",
              " * Generator function which is called between each async step of the upload\n",
              " * process.\n",
              " * @param {string} inputId Element ID of the input file picker element.\n",
              " * @param {string} outputId Element ID of the output display.\n",
              " * @return {!Iterable<!Object>} Iterable of next steps.\n",
              " */\n",
              "function* uploadFilesStep(inputId, outputId) {\n",
              "  const inputElement = document.getElementById(inputId);\n",
              "  inputElement.disabled = false;\n",
              "\n",
              "  const outputElement = document.getElementById(outputId);\n",
              "  outputElement.innerHTML = '';\n",
              "\n",
              "  const pickedPromise = new Promise((resolve) => {\n",
              "    inputElement.addEventListener('change', (e) => {\n",
              "      resolve(e.target.files);\n",
              "    });\n",
              "  });\n",
              "\n",
              "  const cancel = document.createElement('button');\n",
              "  inputElement.parentElement.appendChild(cancel);\n",
              "  cancel.textContent = 'Cancel upload';\n",
              "  const cancelPromise = new Promise((resolve) => {\n",
              "    cancel.onclick = () => {\n",
              "      resolve(null);\n",
              "    };\n",
              "  });\n",
              "\n",
              "  // Wait for the user to pick the files.\n",
              "  const files = yield {\n",
              "    promise: Promise.race([pickedPromise, cancelPromise]),\n",
              "    response: {\n",
              "      action: 'starting',\n",
              "    }\n",
              "  };\n",
              "\n",
              "  cancel.remove();\n",
              "\n",
              "  // Disable the input element since further picks are not allowed.\n",
              "  inputElement.disabled = true;\n",
              "\n",
              "  if (!files) {\n",
              "    return {\n",
              "      response: {\n",
              "        action: 'complete',\n",
              "      }\n",
              "    };\n",
              "  }\n",
              "\n",
              "  for (const file of files) {\n",
              "    const li = document.createElement('li');\n",
              "    li.append(span(file.name, {fontWeight: 'bold'}));\n",
              "    li.append(span(\n",
              "        `(${file.type || 'n/a'}) - ${file.size} bytes, ` +\n",
              "        `last modified: ${\n",
              "            file.lastModifiedDate ? file.lastModifiedDate.toLocaleDateString() :\n",
              "                                    'n/a'} - `));\n",
              "    const percent = span('0% done');\n",
              "    li.appendChild(percent);\n",
              "\n",
              "    outputElement.appendChild(li);\n",
              "\n",
              "    const fileDataPromise = new Promise((resolve) => {\n",
              "      const reader = new FileReader();\n",
              "      reader.onload = (e) => {\n",
              "        resolve(e.target.result);\n",
              "      };\n",
              "      reader.readAsArrayBuffer(file);\n",
              "    });\n",
              "    // Wait for the data to be ready.\n",
              "    let fileData = yield {\n",
              "      promise: fileDataPromise,\n",
              "      response: {\n",
              "        action: 'continue',\n",
              "      }\n",
              "    };\n",
              "\n",
              "    // Use a chunked sending to avoid message size limits. See b/62115660.\n",
              "    let position = 0;\n",
              "    do {\n",
              "      const length = Math.min(fileData.byteLength - position, MAX_PAYLOAD_SIZE);\n",
              "      const chunk = new Uint8Array(fileData, position, length);\n",
              "      position += length;\n",
              "\n",
              "      const base64 = btoa(String.fromCharCode.apply(null, chunk));\n",
              "      yield {\n",
              "        response: {\n",
              "          action: 'append',\n",
              "          file: file.name,\n",
              "          data: base64,\n",
              "        },\n",
              "      };\n",
              "\n",
              "      let percentDone = fileData.byteLength === 0 ?\n",
              "          100 :\n",
              "          Math.round((position / fileData.byteLength) * 100);\n",
              "      percent.textContent = `${percentDone}% done`;\n",
              "\n",
              "    } while (position < fileData.byteLength);\n",
              "  }\n",
              "\n",
              "  // All done.\n",
              "  yield {\n",
              "    response: {\n",
              "      action: 'complete',\n",
              "    }\n",
              "  };\n",
              "}\n",
              "\n",
              "scope.google = scope.google || {};\n",
              "scope.google.colab = scope.google.colab || {};\n",
              "scope.google.colab._files = {\n",
              "  _uploadFiles,\n",
              "  _uploadFilesContinue,\n",
              "};\n",
              "})(self);\n",
              "</script> "
            ]
          },
          "metadata": {}
        },
        {
          "output_type": "stream",
          "name": "stdout",
          "text": [
            "Saving nurse_personal_health_professional_3-30-23.jsonl to nurse_personal_health_professional_3-30-23.jsonl\n"
          ]
        }
      ]
    },
    {
      "cell_type": "markdown",
      "source": [
        "# Define Constants"
      ],
      "metadata": {
        "id": "6OZ13L9Etxur"
      }
    },
    {
      "cell_type": "code",
      "source": [
        "DATE = \"04-Apr-23\" # Today's date\n",
        "MODEL = \"RoBERTa-base\" # Model you want to use (from Huggingface Hub)\n",
        "INPUT_DATA = f\"nurse_personal_health_professional_3-30-23.jsonl\" # Dataset name\n",
        "TEXT_COLUMN = \"caption\" # Name of the text-containing column in your dataset\n",
        "LABEL_NAMES = [\"personal_life\", \"health\", \"professional_life\"] # Names of the labels in your dataset\n",
        "DATASET_NAME = \"personal-health-professional\" # savename to write the augmented data to\n",
        "MODEL_SAVE_NAME = \"professional_health_personal\" # Savename for the model\n",
        "DATA_SAMPLE_SIZE = None # int to sample, None to use all data"
      ],
      "metadata": {
        "id": "WldG-EH1tw0L"
      },
      "execution_count": null,
      "outputs": []
    },
    {
      "cell_type": "markdown",
      "source": [
        "# Install Packages"
      ],
      "metadata": {
        "id": "9kayr8lK4Qls"
      }
    },
    {
      "cell_type": "code",
      "source": [
        "pip install transformers evaluate datasets nlpaug sentencepiece sacremoses jsonlines emoji unidecode"
      ],
      "metadata": {
        "id": "A9n7_DqEszVL"
      },
      "execution_count": null,
      "outputs": []
    },
    {
      "cell_type": "markdown",
      "source": [
        "# Load Data"
      ],
      "metadata": {
        "id": "WJEQFGJzrHCN"
      }
    },
    {
      "cell_type": "code",
      "source": [
        "import jsonlines\n",
        "import random"
      ],
      "metadata": {
        "id": "vKI366E5SjXk"
      },
      "execution_count": null,
      "outputs": []
    },
    {
      "cell_type": "code",
      "execution_count": null,
      "metadata": {
        "id": "a1ifqpMASY-T"
      },
      "outputs": [],
      "source": [
        "# Load data\n",
        "path = \"./\"\n",
        "infile = INPUT_DATA\n",
        "\n",
        "with jsonlines.open(path + infile) as reader:\n",
        "    data = [obj for obj in reader]\n",
        "\n",
        "if DATA_SAMPLE_SIZE:\n",
        "    data = data[:DATA_SAMPLE_SIZE]\n",
        "\n",
        "# Shuffle data\n",
        "random.seed(42)\n",
        "random.shuffle(data)"
      ]
    },
    {
      "cell_type": "markdown",
      "source": [
        "# Clean Data"
      ],
      "metadata": {
        "id": "VwP4x0rdrZkf"
      }
    },
    {
      "cell_type": "code",
      "source": [
        "import re\n",
        "from emoji import demojize\n",
        "from unidecode import unidecode\n",
        "\n",
        "def remove_hashtag(text: str):\n",
        "    \"\"\"Remove hashtags from some text\"\"\"\n",
        "    return re.sub(r\"#\\w+\", \"\", text)\n",
        "\n",
        "# Normalize unicode text, remove hashtags, and encode emojis as :emoji_names:\n",
        "for datum in data:\n",
        "    datum[TEXT_COLUMN]"
      ],
      "metadata": {
        "id": "t-Fu-lzirYz6"
      },
      "execution_count": null,
      "outputs": []
    },
    {
      "cell_type": "markdown",
      "source": [
        "# Augment Data"
      ],
      "metadata": {
        "id": "l5ZPDFg3tMKU"
      }
    },
    {
      "cell_type": "code",
      "source": [
        "import nlpaug.augmenter.word as naw\n",
        "\n",
        "# Reserve some data for your test dataset - you should not test on augmented data\n",
        "data = data[:int(len(data) * .7)]\n",
        "reserved_data = data[int(len(data) * 0.7):]\n",
        "\n",
        "augmented_data = []\n",
        "\n",
        "# Contextual word embedding\n",
        "aug = naw.ContextualWordEmbsAug(\n",
        "        model_path=MODEL,\n",
        "        action=\"insert\",\n",
        "        device=\"cuda\"\n",
        "      )\n",
        "\n",
        "# Back-translation\n",
        "back_translation_aug = naw.BackTranslationAug(\n",
        "    from_model_name='facebook/wmt19-en-de', \n",
        "    to_model_name='facebook/wmt19-de-en',\n",
        "    device=\"cuda\"\n",
        ")\n",
        "\n",
        "# Augment and add to dataset\n",
        "for i, obj in enumerate(data):\n",
        "    if i % 10 == 0:\n",
        "        print(f\"augmenting {i} of {len(data)}\") \n",
        "\n",
        "    # Original data\n",
        "    augmented_data.append(obj)\n",
        "\n",
        "    # Remove :emoji_names: before augmenting\n",
        "    text = re.sub(r\":[a-z_]*?:\", \"\", obj[TEXT_COLUMN])\n",
        "    text = re.sub(r\"\\s+\", \" \", text)\n",
        "    \n",
        "    # Skip empty\n",
        "    if text == \" \" or not text:\n",
        "        continue\n",
        "\n",
        "    # Insert words if caption is < 300 words\n",
        "    if len(text.split(\" \")) < 300:\n",
        "        augmented_obj = obj.copy()\n",
        "        augmented_obj[TEXT_COLUMN] = aug.augment(text)[0]\n",
        "        if augmented_obj[TEXT_COLUMN] != text:\n",
        "            augmented_data.append(augmented_obj)\n",
        "\n",
        "    # Backtranslate\n",
        "    backtranslated_obj = obj.copy()\n",
        "    backtranslated_obj[TEXT_COLUMN] = back_translation_aug.augment(text)[0]\n",
        "    if backtranslated_obj[TEXT_COLUMN] != text:\n",
        "        augmented_data.append(backtranslated_obj)\n",
        "\n",
        "    "
      ],
      "metadata": {
        "id": "66VtFO5AYsaW"
      },
      "execution_count": null,
      "outputs": []
    },
    {
      "cell_type": "code",
      "source": [
        "train_outfile = f\"TRAIN-augmented_{DATASET_NAME}_{DATE}.jsonl\"\n",
        "test_outfile = f\"TEST-{DATASET_NAME}_{DATE}.jsonl\"\n",
        "\n",
        "with jsonlines.open(train_outfile, \"w\") as writer:\n",
        "    writer.write_all(augmented_data)\n",
        "\n",
        "with jsonlines.open(test_outfile, \"w\") as writer:\n",
        "    writer.write_all(reserved_data)"
      ],
      "metadata": {
        "id": "b0YldBfcUJXp"
      },
      "execution_count": null,
      "outputs": []
    },
    {
      "cell_type": "markdown",
      "source": [
        "# Train Model"
      ],
      "metadata": {
        "id": "FIqtXvU6tN1e"
      }
    },
    {
      "cell_type": "code",
      "execution_count": null,
      "metadata": {
        "id": "WUgJfZq-xezX"
      },
      "outputs": [],
      "source": [
        "\"\"\"\n",
        "https://colab.research.google.com/github/NielsRogge/Transformers-Tutorials/blob/master/BERT/Fine_tuning_BERT_(and_friends)_for_multi_label_text_classification.ipynb#scrollTo=PgS0wMWExcqP\n",
        "Modified for multiclass with weighted trainer\n",
        "\"\"\"\n",
        "\n",
        "from evaluate import evaluator\n",
        "from datasets import load_dataset, concatenate_datasets\n",
        "from transformers import AutoTokenizer, AutoModelForSequenceClassification, TrainingArguments, Trainer, EvalPrediction\n",
        "import numpy as np\n",
        "\n",
        "from sklearn.metrics import f1_score, roc_auc_score, accuracy_score\n",
        "\n",
        "from torch import nn\n",
        "import torch\n",
        "\n",
        "from collections import defaultdict\n",
        "import re\n",
        "\n",
        "\n",
        "# Clear CUDA Cache\n",
        "torch.cuda.empty_cache()\n",
        "\n",
        "# Load separate dataset files\n",
        "train_dataset = load_dataset(\"json\", data_files=f\"TRAIN-augmented_{DATASET_NAME}_{DATE}.jsonl\")[\"train\"]\n",
        "test_dataset = load_dataset(\"json\", data_files=f\"TEST-{DATASET_NAME}_{DATE}.jsonl\")[\"train\"]\n",
        "\n",
        "# Join the separate files into single dataset\n",
        "dataset = concatenate_datasets([train_dataset, test_dataset])\n",
        "\n",
        "# Make a train/test split in the single dataset\n",
        "dataset = dataset.train_test_split(test_size=len(test_dataset))\n",
        "\n",
        "id2label = {idx:label for idx, label in enumerate(LABEL_NAMES)}\n",
        "label2id = {label:idx for idx, label in enumerate(LABEL_NAMES)}\n",
        "\n",
        "def get_labels(\n",
        "        multilabel_dataset: list[dict], \n",
        "        label_names: list[str],\n",
        "        unique: bool = False\n",
        "    ):\n",
        "    \"\"\"Get all possible label combinations from a multilabel dataset\n",
        "\n",
        "    Args:\n",
        "        multilabel_dataset (list[dict]): jsonlines type dataset\n",
        "        label_names (list[str]): The names of the labels in dataset\n",
        "                                 [\"label1\", \"label2\", \"label3\"]\n",
        "        unique (bool): Get only one of each label\n",
        "    \n",
        "    Returns: \n",
        "        list[list]: The labels in the dataset in nested list format, for example:\n",
        "                    [[0, 1, 0], [0, 1, 1], [1, 1, 1], etc..]\n",
        "    \"\"\"\n",
        "    labels = []\n",
        "\n",
        "    for datum in multilabel_dataset:\n",
        "        label = [value for label, value in datum.items() if label in label_names]\n",
        "        if unique:\n",
        "            if label not in labels:\n",
        "                labels.append(label)\n",
        "        else:\n",
        "            labels.append(label)\n",
        "\n",
        "    return labels\n",
        "\n",
        "\n",
        "def compute_multilabel_weights(labels: list[list]):\n",
        "    \"\"\"Generate class weights given a set of one-hot multi-label labels.\n",
        "        \n",
        "    Args:\n",
        "        labels (list[list]): List of one-hot encoded labels: [[0, 1, 1], [1, 1, 0], etc...]\n",
        "\n",
        "    Returns:\n",
        "        list[float]: The class weights\n",
        "\n",
        "    Credit:\n",
        "        Inspired by https://gist.github.com/angeligareta/83d9024c5e72ac9ebc34c9f0b073c64c\n",
        "    \"\"\"\n",
        "    n_samples = len(labels)\n",
        "    n_classes = len(labels[0])\n",
        "    class_count = np.array(labels).sum(axis=0)\n",
        "\n",
        "    # Compute class weights using balanced method\n",
        "    return [n_samples / (n_classes * freq) if freq > 0 else 1 for freq in class_count]\n",
        "\n",
        "all_labels = get_labels(list(dataset[\"train\"]), LABEL_NAMES)\n",
        "weights = compute_multilabel_weights(all_labels)\n",
        "\n",
        "\n",
        "class WeightedTrainer(Trainer):\n",
        "    def compute_loss(self, model, inputs, return_outputs=False):\n",
        "        \"\"\"Custom loss function to apply weightings when calculating loss\"\"\"\n",
        "        labels = inputs.get(\"labels\")\n",
        "        # forward pass\n",
        "        outputs = model(**inputs)\n",
        "        logits = outputs.get(\"logits\")\n",
        "        # compute custom loss - make sure tensor device matches model/dataset device!\n",
        "        criterion = nn.CrossEntropyLoss(weight=torch.tensor(weights, device=\"cuda\"))\n",
        "        loss = criterion(logits, inputs[\"labels\"])\n",
        "        return (loss, outputs) if return_outputs else loss\n",
        "\n",
        "tokenizer = AutoTokenizer.from_pretrained(MODEL) # Make tokenizer\n",
        "\n",
        "def preprocess_data(examples, labels=LABEL_NAMES, tokenizer=tokenizer):\n",
        "    text = examples[TEXT_COLUMN]\n",
        "    encoding = tokenizer(text, padding=\"max_length\", truncation=True, max_length=512) # Set to max length for instagram posts\n",
        "    labels_batch = {label: examples[label] for label in labels}\n",
        "    labels_matrix = np.zeros((len(text), len(labels)))\n",
        "    for idx, label in enumerate(labels):\n",
        "        labels_matrix[:, idx] = labels_batch[label]\n",
        "    encoding[\"labels\"] = labels_matrix.tolist()\n",
        "    return encoding\n",
        "\n",
        "encoded_dataset = dataset.map(preprocess_data, batched=True, remove_columns=dataset[\"train\"].column_names)\n",
        "\n",
        "encoded_dataset.set_format(\"torch\")\n",
        "\n",
        "# Define model\n",
        "model = AutoModelForSequenceClassification.from_pretrained(MODEL,\n",
        "            num_labels=len(LABEL_NAMES),\n",
        "            id2label=id2label,\n",
        "            label2id=label2id)\n",
        "\n",
        "batch_size = 16\n",
        "metric_name = \"f1\"\n",
        "\n",
        "args = TrainingArguments(\n",
        "    f\"model_training_progress\",\n",
        "    evaluation_strategy=\"epoch\",\n",
        "    save_strategy=\"epoch\",\n",
        "    learning_rate=2e-5,\n",
        "    per_device_train_batch_size=batch_size,\n",
        "    per_device_eval_batch_size=batch_size,\n",
        "    num_train_epochs=5,\n",
        "    weight_decay=0.01,\n",
        "    load_best_model_at_end=True,\n",
        "    metric_for_best_model=metric_name\n",
        ")\n",
        "\n",
        "def multi_label_metrics(predictions, labels):\n",
        "    sigmoid = torch.nn.Sigmoid()\n",
        "    probs = sigmoid(torch.Tensor(predictions))\n",
        "    y_pred = torch.where(probs > 0.5, 1, 0)\n",
        "    y_true = labels\n",
        "    f1_micro_average = f1_score(y_true=y_true, y_pred=y_pred, average=\"micro\")\n",
        "    roc_auc = roc_auc_score(y_true, y_pred, average=\"micro\")\n",
        "    accuracy = accuracy_score(y_true, y_pred)\n",
        "    return {\n",
        "        \"f1\": f1_micro_average,\n",
        "        \"roc_auc\": roc_auc,\n",
        "        \"accuracy\": accuracy\n",
        "    }\n",
        "\n",
        "def compute_metrics(p: EvalPrediction):\n",
        "    preds = p.predictions[0] if isinstance(p.predictions, \n",
        "            tuple) else p.predictions\n",
        "    return multi_label_metrics(\n",
        "        predictions=preds,\n",
        "        labels=p.label_ids\n",
        "    )\n",
        "\n",
        "trainer = WeightedTrainer(\n",
        "    model, \n",
        "    args,\n",
        "    train_dataset=encoded_dataset[\"train\"],\n",
        "    eval_dataset=encoded_dataset[\"test\"],\n",
        "    tokenizer=tokenizer,\n",
        "    compute_metrics=compute_metrics\n",
        ")\n",
        "\n",
        "trainer.train()\n",
        "trainer.evaluate()\n",
        "trainer.save_model(\"trained_model\")\n"
      ]
    },
    {
      "cell_type": "code",
      "source": [],
      "metadata": {
        "id": "QEF0ZTE96VA_"
      },
      "execution_count": null,
      "outputs": []
    },
    {
      "cell_type": "markdown",
      "source": [
        "# Prediction function for testing"
      ],
      "metadata": {
        "id": "k7kLzb9jbp0T"
      }
    },
    {
      "cell_type": "code",
      "source": [
        "# Define prediction function\n",
        "def predict(text: str, return_label = True):\n",
        "    \"\"\"Multiclass labeling for text interests\"\"\"\n",
        "    encoding = tokenizer(text, return_tensors=\"pt\", truncation=True, max_length=512)\n",
        "    encoding = {k: v.to(trainer.model.device) for k, v in encoding.items()}\n",
        "    outputs = trainer.model(**encoding)\n",
        "    logits = outputs.logits\n",
        "    sigmoid = torch.nn.Sigmoid()\n",
        "    probs = sigmoid(torch.Tensor(logits))\n",
        "    predictions = torch.where(probs > 0.5, 1, 0).squeeze()\n",
        "    print(predictions)\n",
        "    if return_label:\n",
        "      predicted_label = [id2label[i] for i, value in enumerate(predictions) if value.item() == 1]\n",
        "      return predicted_label\n",
        "    else:\n",
        "      return predictions\n"
      ],
      "metadata": {
        "id": "Y8dekKDDQYFa"
      },
      "execution_count": null,
      "outputs": []
    },
    {
      "cell_type": "markdown",
      "source": [
        "# Zip and download the model"
      ],
      "metadata": {
        "id": "bVrC-s4ulMNi"
      }
    },
    {
      "cell_type": "code",
      "source": [
        "!zip -r trained_model.zip trained_model"
      ],
      "metadata": {
        "id": "mrY72RkulQe2"
      },
      "execution_count": null,
      "outputs": []
    },
    {
      "cell_type": "code",
      "source": [
        "files.download(\"{MODEL_SAVE_NAME}.zip\")"
      ],
      "metadata": {
        "id": "P95ourEVKuBp"
      },
      "execution_count": null,
      "outputs": []
    }
  ]
}